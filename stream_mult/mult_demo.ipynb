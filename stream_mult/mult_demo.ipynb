{
 "cells": [
  {
   "cell_type": "code",
   "execution_count": null,
   "id": "56e7b4c2",
   "metadata": {},
   "outputs": [],
   "source": [
    "# Import Pynq libraries\n",
    "from pynq import Overlay\n",
    "from pynq import allocate\n",
    "import numpy as np"
   ]
  },
  {
   "cell_type": "code",
   "execution_count": null,
   "id": "b9f1104c",
   "metadata": {},
   "outputs": [],
   "source": [
    "# Load the overlay\n",
    "overlay = Overlay('mult_stream_pynq.bit')\n",
    "\n",
    "# Set up proxy variables to make it easier to access the DMA module and the IP (multiplier)\n",
    "# so that we can communicate with it.\n",
    "d = overlay.axi_dma_0\n",
    "m = overlay.ip_inst"
   ]
  },
  {
   "cell_type": "code",
   "execution_count": null,
   "id": "bec97a49",
   "metadata": {},
   "outputs": [],
   "source": [
    "# Set up the input and output buffers.  Use the `allocate` function since we need\n",
    "# to be able to find the physical addresses of these arrays later for the DMA.\n",
    "num_values = 400\n",
    "in_buffer = allocate(shape=(num_values,), dtype=np.uint32)\n",
    "out_buffer = allocate(shape=(num_values,), dtype=np.uint32)\n",
    "\n",
    "# Load the array with values: this happens on the CPU.\n",
    "for i in range(num_values):\n",
    "    in_buffer[i] = i"
   ]
  },
  {
   "cell_type": "code",
   "execution_count": null,
   "id": "489a196a",
   "metadata": {},
   "outputs": [],
   "source": [
    "# Set the multiplication constant\n",
    "m.register_map.constant_r = 13"
   ]
  },
  {
   "cell_type": "code",
   "execution_count": null,
   "id": "fe5c794c",
   "metadata": {},
   "outputs": [],
   "source": [
    "# Send and receive data using DMA.  This takes care of all the setup and transfer\n",
    "# and automatically takes the length of transfer based on the size used during `allocate`.\n",
    "d.sendchannel.transfer(in_buffer)\n",
    "d.recvchannel.transfer(out_buffer)\n",
    "d.sendchannel.wait()\n",
    "d.recvchannel.wait()"
   ]
  },
  {
   "cell_type": "code",
   "execution_count": null,
   "id": "1688c08f",
   "metadata": {},
   "outputs": [],
   "source": [
    "# Optional to check the status of the DMA module\n",
    "d.sendchannel.idle, d.sendchannel.running, d.recvchannel.idle, d.recvchannel.running"
   ]
  },
  {
   "cell_type": "code",
   "execution_count": null,
   "id": "42eac6ec",
   "metadata": {},
   "outputs": [],
   "source": [
    "# Print the output for manual verification\n",
    "out_buffer"
   ]
  }
 ],
 "metadata": {
  "kernelspec": {
   "display_name": "Python 3 (ipykernel)",
   "language": "python",
   "name": "python3"
  },
  "language_info": {
   "codemirror_mode": {
    "name": "ipython",
    "version": 3
   },
   "file_extension": ".py",
   "mimetype": "text/x-python",
   "name": "python",
   "nbconvert_exporter": "python",
   "pygments_lexer": "ipython3",
   "version": "3.10.4"
  }
 },
 "nbformat": 4,
 "nbformat_minor": 5
}
