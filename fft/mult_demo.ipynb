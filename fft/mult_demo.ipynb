{
 "cells": [
  {
   "cell_type": "code",
   "execution_count": null,
   "id": "56e7b4c2",
   "metadata": {},
   "outputs": [],
   "source": [
    "from pynq import Overlay, allocate\n",
    "import numpy as np\n",
    "import matplotlib.pyplot as plt"
   ]
  },
  {
   "cell_type": "code",
   "execution_count": null,
   "id": "b9f1104c",
   "metadata": {},
   "outputs": [],
   "source": [
    "overlay = Overlay(\"fft32_overlay.bit\")\n",
    "overlay.download()\n",
    "\n",
    "dma = overlay.axi_dma_0  # Replace with your DMA IP name\n",
    "fft_ip = overlay.fft32_ip  # Replace with your FFT IP name\n",
    "\n",
    "m = overlay.ip_inst"
   ]
  },
  {
   "cell_type": "code",
   "execution_count": null,
   "id": "bec97a49",
   "metadata": {},
   "outputs": [],
   "source": [
    "N = 32\n",
    "t = np.arange(N)\n",
    "freq = 5  # Frequency in Hz\n",
    "sample_rate = 32  # Samples per second\n",
    "x_real = np.cos(2 * np.pi * freq * t / sample_rate)\n",
    "x_imag = np.zeros(N)\n",
    "\n",
    "in_buffer = allocate(shape=(N*2,), dtype=np.int16)\n",
    "out_buffer = allocate(shape=(N*2,), dtype=np.int16)\n",
    "\n",
    "# Convert to fixed-point representation (e.g., Q1.15 format)\n",
    "scale_factor = 2**15\n",
    "for i in range(N):\n",
    "    in_buffer[2*i] = int(x_real[i] * scale_factor)\n",
    "    in_buffer[2*i + 1] = int(x_imag[i] * scale_factor)\n",
    "\n",
    "\n",
    "# # Set up the input and output buffers.  Use the `allocate` function since we need\n",
    "# # to be able to find the physical addresses of these arrays later for the DMA.\n",
    "# num_values = 400\n",
    "# in_buffer = allocate(shape=(num_values,), dtype=np.uint32)\n",
    "# out_buffer = allocate(shape=(num_values,), dtype=np.uint32)\n",
    "\n",
    "# # Load the array with values: this happens on the CPU.\n",
    "# for i in range(num_values):\n",
    "#     in_buffer[i] = i"
   ]
  },
  {
   "cell_type": "code",
   "execution_count": null,
   "id": "489a196a",
   "metadata": {},
   "outputs": [],
   "source": [
    "# Set the multiplication constant\n",
    "m.register_map.constant_r = 13"
   ]
  },
  {
   "cell_type": "code",
   "execution_count": null,
   "id": "fe5c794c",
   "metadata": {},
   "outputs": [],
   "source": [
    "dma.sendchannel.transfer(in_buffer)\n",
    "dma.recvchannel.transfer(out_buffer)\n",
    "\n",
    "# Start the FFT IP core\n",
    "fft_ip.write(0x00, 0x01)  # Assuming control register at offset 0x00\n",
    "\n",
    "dma.sendchannel.wait()\n",
    "dma.recvchannel.wait()\n",
    "\n",
    "# # Send and receive data using DMA.  This takes care of all the setup and transfer\n",
    "# # and automatically takes the length of transfer based on the size used during `allocate`.\n",
    "# d.sendchannel.transfer(in_buffer)\n",
    "# d.recvchannel.transfer(out_buffer)\n",
    "# d.sendchannel.wait()\n",
    "# d.recvchannel.wait()"
   ]
  },
  {
   "cell_type": "code",
   "execution_count": null,
   "id": "1688c08f",
   "metadata": {},
   "outputs": [],
   "source": [
    "# Optional to check the status of the DMA module\n",
    "# d.sendchannel.idle, d.sendchannel.running, d.recvchannel.idle, d.recvchannel.running"
   ]
  },
  {
   "cell_type": "code",
   "execution_count": null,
   "id": "42eac6ec",
   "metadata": {},
   "outputs": [],
   "source": [
    "# Print the output for manual verification\n",
    "out_buffer"
   ]
  },
  {
   "cell_type": "code",
   "execution_count": null,
   "id": "f87e4425",
   "metadata": {},
   "outputs": [],
   "source": [
    "# Convert back to floating-point\n",
    "y_real = np.zeros(N)\n",
    "y_imag = np.zeros(N)\n",
    "for i in range(N):\n",
    "    y_real[i] = out_buffer[2*i] / scale_factor\n",
    "    y_imag[i] = out_buffer[2*i + 1] / scale_factor\n",
    "\n",
    "# Compute magnitude\n",
    "y_mag = np.sqrt(y_real**2 + y_imag**2)\n",
    "\n",
    "plt.stem(y_mag)\n",
    "plt.title(\"FFT Magnitude\")\n",
    "plt.xlabel(\"Frequency Bin\")\n",
    "plt.ylabel(\"Magnitude\")\n",
    "plt.grid(True)\n",
    "plt.show()\n"
   ]
  }
 ],
 "metadata": {
  "kernelspec": {
   "display_name": "Python 3 (ipykernel)",
   "language": "python",
   "name": "python3"
  },
  "language_info": {
   "codemirror_mode": {
    "name": "ipython",
    "version": 3
   },
   "file_extension": ".py",
   "mimetype": "text/x-python",
   "name": "python",
   "nbconvert_exporter": "python",
   "pygments_lexer": "ipython3",
   "version": "3.10.4"
  }
 },
 "nbformat": 4,
 "nbformat_minor": 5
}
