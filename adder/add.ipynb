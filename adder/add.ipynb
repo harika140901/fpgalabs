{
 "cells": [
  {
   "cell_type": "code",
   "execution_count": null,
   "id": "56e7b4c2",
   "metadata": {},
   "outputs": [],
   "source": [
    "# Basic imports.  Not all may be required.\n",
    "from pynq import Overlay\n",
    "from pynq import allocate\n",
    "import numpy as np"
   ]
  },
  {
   "cell_type": "code",
   "execution_count": null,
   "id": "b9f1104c",
   "metadata": {},
   "outputs": [],
   "source": [
    "# Load the overlay to the design\n",
    "overlay = Overlay('add_pynq.bit')"
   ]
  },
  {
   "cell_type": "code",
   "execution_count": null,
   "id": "afa616a5",
   "metadata": {},
   "outputs": [],
   "source": [
    "# View the register map.  Optional\n",
    "overlay.add_0.register_map"
   ]
  },
  {
   "cell_type": "code",
   "execution_count": null,
   "id": "0a66dda3",
   "metadata": {},
   "outputs": [],
   "source": [
    "# For ease of accessing the register maps:\n",
    "adder=overlay.add_0"
   ]
  },
  {
   "cell_type": "code",
   "execution_count": null,
   "id": "42bff087",
   "metadata": {},
   "outputs": [],
   "source": [
    "# Set the input register values through AXI lite using the register map\n",
    "adder.register_map.a=15\n",
    "adder.register_map.b=23"
   ]
  },
  {
   "cell_type": "code",
   "execution_count": null,
   "id": "f0f9968d",
   "metadata": {},
   "outputs": [],
   "source": [
    "# Read out the result from the register map using AXI lite\n",
    "adder.register_map.c"
   ]
  }
 ],
 "metadata": {
  "kernelspec": {
   "display_name": "Python 3 (ipykernel)",
   "language": "python",
   "name": "python3"
  },
  "language_info": {
   "codemirror_mode": {
    "name": "ipython",
    "version": 3
   },
   "file_extension": ".py",
   "mimetype": "text/x-python",
   "name": "python",
   "nbconvert_exporter": "python",
   "pygments_lexer": "ipython3",
   "version": "3.10.4"
  }
 },
 "nbformat": 4,
 "nbformat_minor": 5
}
